{
  "nbformat": 4,
  "nbformat_minor": 0,
  "metadata": {
    "colab": {
      "name": "Bank Account OOP Project (Level 1)",
      "provenance": [],
      "toc_visible": true,
      "authorship_tag": "ABX9TyMszC4Jg/zo6y5wqJFrZudQ",
      "include_colab_link": true
    },
    "kernelspec": {
      "name": "python3",
      "display_name": "Python 3"
    }
  },
  "cells": [
    {
      "cell_type": "markdown",
      "metadata": {
        "id": "view-in-github",
        "colab_type": "text"
      },
      "source": [
        "<a href=\"https://colab.research.google.com/github/wallik2/OnlineBanking/blob/main/Bank_Account_OOP_Project_(Level_1).ipynb\" target=\"_parent\"><img src=\"https://colab.research.google.com/assets/colab-badge.svg\" alt=\"Open In Colab\"/></a>"
      ]
    },
    {
      "cell_type": "code",
      "metadata": {
        "id": "JBiquZK8YV3n"
      },
      "source": [
        "import time"
      ],
      "execution_count": 1,
      "outputs": []
    },
    {
      "cell_type": "code",
      "metadata": {
        "id": "qCnZWa8OalUR",
        "colab": {
          "base_uri": "https://localhost:8080/"
        },
        "outputId": "3ab2adfb-e406-4a95-fc81-b624b188e180"
      },
      "source": [
        "class UserPass:\n",
        "  \n",
        "  status_1 = input('Do you have account already?')\n",
        "  #If status = \n",
        "\n",
        "\n",
        "\n",
        "  def __init__(self):\n",
        "    return "
      ],
      "execution_count": 24,
      "outputs": [
        {
          "name": "stdout",
          "output_type": "stream",
          "text": [
            "Do you have account already?yes\n"
          ]
        }
      ]
    },
    {
      "cell_type": "code",
      "metadata": {
        "id": "M3V0NHu38CIa"
      },
      "source": [
        "class BankAccount:\n",
        "\n",
        "# Open Account Zone\n",
        "  def __init__(self,first_name,last_name,amount=0):\n",
        "    self.first_name = first_name \n",
        "    self.last_name = last_name \n",
        "    self.balance = amount\n",
        "    return self.Interest_statement()\n",
        "\n",
        "  ##@property\n",
        "  def Interest_statement(self):\n",
        "    \n",
        "    statement = input('Do you want to activate a Fixed deposit account? (y/n) : ')\n",
        "    if statement == 'y': \n",
        "      self.status = \"Fixed deposit Account\"\n",
        "      return self.Fixed_deposit_Account()\n",
        "    elif statement == 'n':\n",
        "      self.status = \"Saving Account\"\n",
        "      print('Your account is a saving account ')\n",
        "    else:\n",
        "      print('Please enter only \"y\" or \"n\"')\n",
        "      return self.Interest_statement()\n",
        "\n",
        "\n",
        "#Financial Zone\n",
        "\n",
        "  def Check_Balance(self):\n",
        "    print('Your Current balance is {}'.format(self.balance))\n",
        "\n",
        "  def deposit(self, amount):\n",
        "    self.balance = self.balance + amount\n",
        "\n",
        "  def withdraw(self, amount):\n",
        "    \n",
        "    if amount >= self.balance:\n",
        "      print('Insufficient funds ! \\nour current balance is {}'.format(self.balance))\n",
        "\n",
        "    elif self.status == \"Banned\":\n",
        "      print('you are not allowed to withdraw the money')\n",
        "\n",
        "    else: \n",
        "      self.balance = self.balance - amount\n",
        "\n",
        "\n",
        "    \n",
        "  def transfer(self,Recipient,amount):\n",
        "\n",
        "    if amount >= self.balance:\n",
        "      print('Insufficient funds ! \\nyour current balance is {}'.format(self.balance))\n",
        "\n",
        "    elif self.status == \"Fixed_deposit_Account\":\n",
        "      print('you are not allowed to withdraw the money')\n",
        "\n",
        "    else: \n",
        "      self.balance = self.balance - amount\n",
        "\n",
        "      Recipient.balance = Recipient.balance + amount\n",
        "\n",
        "      print('Transaction successfully')\n",
        "\n",
        "# Interest Zone\n",
        "  def Fixed_deposit_Account(self):\n",
        "    \"\"\"after 0.1 minute you got the interest 5%\"\"\"\n",
        "   \n",
        "    time.sleep(6)\n",
        "    \n",
        "    self.balance *= 1.05\n",
        "\n",
        "\n",
        "\n",
        "\n",
        "# Personal Information Zone\n",
        "\n",
        "  @property\n",
        "  def full_name(self):\n",
        "    return '{} {}'.format(self.first_name,self.last_name)\n",
        "  \n",
        "  @full_name.setter\n",
        "  def full_name(self,new_full_name):\n",
        "    first_name, last_name = new_full_name.split(\" \")\n",
        "    self.first_name = first_name\n",
        "    self.last_name = last_name\n",
        "  \n",
        "\n",
        "\n",
        "\n",
        "# Checking current personal stuff\n",
        "\n",
        "  def Check_Balance(self):\n",
        "    print('Your Current balance is {}'.format(self.balance))\n",
        "\n",
        "  def Check_Status(self):\n",
        "    print(self.status)\n",
        "      "
      ],
      "execution_count": 8,
      "outputs": []
    },
    {
      "cell_type": "markdown",
      "metadata": {
        "id": "PlnUv3dkW3nb"
      },
      "source": [
        "# New Section"
      ]
    },
    {
      "cell_type": "code",
      "metadata": {
        "colab": {
          "base_uri": "https://localhost:8080/"
        },
        "id": "ZdUfBFQXa2k-",
        "outputId": "5d9954d1-35af-473b-c45a-5c452d02aa6d"
      },
      "source": [
        "Nuchpol_Acc = BankAccount('Nucpol','Arpassomob',500)"
      ],
      "execution_count": 9,
      "outputs": [
        {
          "output_type": "stream",
          "name": "stdout",
          "text": [
            "Do you want to activate a Fixed deposit account? (y/n) : n\n",
            "Your account is a saving account \n"
          ]
        }
      ]
    },
    {
      "cell_type": "code",
      "metadata": {
        "colab": {
          "base_uri": "https://localhost:8080/"
        },
        "id": "inQYYo50bbDW",
        "outputId": "f70daa9c-943b-4e76-dcdb-cb73110ed983"
      },
      "source": [
        "Nuchpol_Acc.balance"
      ],
      "execution_count": 12,
      "outputs": [
        {
          "output_type": "execute_result",
          "data": {
            "text/plain": [
              "400"
            ]
          },
          "metadata": {},
          "execution_count": 12
        }
      ]
    },
    {
      "cell_type": "code",
      "metadata": {
        "id": "IE7gd_H4eWd3"
      },
      "source": [
        "Nuchpol_Acc.withdraw(100)"
      ],
      "execution_count": 11,
      "outputs": []
    },
    {
      "cell_type": "code",
      "metadata": {
        "colab": {
          "base_uri": "https://localhost:8080/"
        },
        "id": "tuzI7izBdKg1",
        "outputId": "cdfefb11-1c1c-456e-d719-d2b9b1ed2b25"
      },
      "source": [
        "Nuchpol_Acc.balance"
      ],
      "execution_count": 18,
      "outputs": [
        {
          "output_type": "execute_result",
          "data": {
            "text/plain": [
              "420.0"
            ]
          },
          "metadata": {},
          "execution_count": 18
        }
      ]
    },
    {
      "cell_type": "code",
      "metadata": {
        "colab": {
          "base_uri": "https://localhost:8080/"
        },
        "id": "Xli1oLOZV4Ai",
        "outputId": "b42a1aca-5c38-483a-a78d-e6f15a318fa1"
      },
      "source": [
        "# Check the type of Bank account (saving account or fixed deposit account)\n",
        "\n",
        "Nuchpol_Acc.Check_Status()"
      ],
      "execution_count": 17,
      "outputs": [
        {
          "output_type": "stream",
          "name": "stdout",
          "text": [
            "Fixed deposit Account\n"
          ]
        }
      ]
    },
    {
      "cell_type": "code",
      "metadata": {
        "colab": {
          "base_uri": "https://localhost:8080/"
        },
        "id": "QkFpvOXGdA4O",
        "outputId": "73b115ea-4ea7-4539-875a-608dc4b63d4d"
      },
      "source": [
        "Nuchpol_Acc.Interest_statement()\n",
        "\n",
        "# You will get"
      ],
      "execution_count": 16,
      "outputs": [
        {
          "name": "stdout",
          "output_type": "stream",
          "text": [
            "Do you want to activate a Fixed deposit account? (y/n) : y\n"
          ]
        }
      ]
    },
    {
      "cell_type": "code",
      "metadata": {
        "id": "_x7A5wk9RDuj",
        "colab": {
          "base_uri": "https://localhost:8080/"
        },
        "outputId": "d1696b89-9a00-4127-e3b1-c27ed7776483"
      },
      "source": [
        "Saran_Acc = BankAccount('Saran','Pannasuriyaporn',500)"
      ],
      "execution_count": 20,
      "outputs": [
        {
          "output_type": "stream",
          "name": "stdout",
          "text": [
            "Do you want to activate a Fixed deposit account? (y/n) : n\n",
            "Your account is a saving account \n"
          ]
        }
      ]
    },
    {
      "cell_type": "markdown",
      "metadata": {
        "id": "xM39dr3qMF-i"
      },
      "source": [
        "\n",
        "\n",
        "---\n",
        "\n",
        "## End User Zone\n",
        "\n"
      ]
    },
    {
      "cell_type": "code",
      "metadata": {
        "id": "o0dX_sxuKtMj"
      },
      "source": [
        "All_Acc ={'Kasemwat':Nuchpol_Acc, 'Saran':Saran_Acc }"
      ],
      "execution_count": 21,
      "outputs": []
    },
    {
      "cell_type": "code",
      "metadata": {
        "colab": {
          "base_uri": "https://localhost:8080/"
        },
        "id": "M5p_CFh5Je4y",
        "outputId": "14e1c05c-a382-4192-89b9-b33b20624046"
      },
      "source": [
        "amount = int(input('Enter amount : '))\n",
        "recipient = input('Enter your recipient : ')\n",
        "\n",
        "Saran_Acc.transfer(All_Acc[recipient],amount)"
      ],
      "execution_count": 22,
      "outputs": [
        {
          "output_type": "stream",
          "name": "stdout",
          "text": [
            "Enter amount : 700\n",
            "Enter your recipient : Kasemwat\n",
            "Insufficient funds ! \n",
            "your current balance is 500\n"
          ]
        }
      ]
    },
    {
      "cell_type": "code",
      "metadata": {
        "colab": {
          "base_uri": "https://localhost:8080/"
        },
        "id": "MQqsRxXPMsP8",
        "outputId": "6bdad14f-9b97-427d-acf9-82a190a5e8a7"
      },
      "source": [
        "Saran_Acc.Check_Balance()"
      ],
      "execution_count": 23,
      "outputs": [
        {
          "output_type": "stream",
          "name": "stdout",
          "text": [
            "Your Current balance is 500\n"
          ]
        }
      ]
    }
  ]
}